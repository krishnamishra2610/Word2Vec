{
 "cells": [
  {
   "cell_type": "code",
   "execution_count": 1,
   "metadata": {},
   "outputs": [],
   "source": [
    "import nltk "
   ]
  },
  {
   "cell_type": "code",
   "execution_count": 2,
   "metadata": {},
   "outputs": [],
   "source": [
    "from nltk.corpus import stopwords \n",
    "import re "
   ]
  },
  {
   "cell_type": "code",
   "execution_count": 3,
   "metadata": {},
   "outputs": [],
   "source": [
    "para = \"\"\"Tesla, Inc. is an American electric vehicle and clean energy company based in Palo Alto, California. Tesla's current products include electric cars, battery energy storage from home to grid-scale, solar panels and solar roof tiles, as well as other related products and services. In 2020, Tesla had the highest sales in the plug-in and battery electric passenger car segments, capturing 16% of the plug-in market (which includes plug-in hybrids) and 23% of the battery-electric (purely electric) market. Through its subsidiary Tesla Energy, the company develops and is a major installer of solar photovoltaic energy generation systems in the United States. Tesla Energy is also one of the largest global suppliers of battery energy storage systems, with 3 GWh of battery storage supplied in 2020.\n",
    "\n",
    "Founded in July 2003 by Martin Eberhard and Marc Tarpenning as Tesla Motors, the company's name is a tribute to inventor and electrical engineer Nikola Tesla. Elon Musk, who contributed most of the funding in the early days, has served as CEO since 2008. According to Musk, the purpose of Tesla is to help expedite the move to sustainable transport and energy, obtained through electric vehicles and solar power. Tesla began production of their first car model, the Roadster, in 2009. This was followed by the Model S sedan in 2012, the Model X SUV in 2015, the higher volume Model 3 sedan in 2017, and the Model Y crossover in 2020. The Model 3 is the world's all-time best-selling plug-in electric car, with more than 800,000 delivered through December 2020. Tesla's global vehicle sales were 499,550 units in 2020, a 35.8% increase over the previous year. In 2020, the company surpassed the 1 million mark of electric cars produced.\n",
    "\n",
    "Tesla has been the subject of numerous lawsuits and controversies arising from statements and acts of CEO Elon Musk, allegations of creative accounting, allegations of whistleblower retaliation, alleged worker rights violations, and allegedly unresolved and dangerous technical problems with their products.\"\"\""
   ]
  },
  {
   "cell_type": "code",
   "execution_count": 4,
   "metadata": {},
   "outputs": [],
   "source": [
    "sentences = nltk.sent_tokenize(para) "
   ]
  },
  {
   "cell_type": "code",
   "execution_count": 5,
   "metadata": {},
   "outputs": [
    {
     "data": {
      "text/plain": [
       "['Tesla, Inc. is an American electric vehicle and clean energy company based in Palo Alto, California.',\n",
       " \"Tesla's current products include electric cars, battery energy storage from home to grid-scale, solar panels and solar roof tiles, as well as other related products and services.\",\n",
       " 'In 2020, Tesla had the highest sales in the plug-in and battery electric passenger car segments, capturing 16% of the plug-in market (which includes plug-in hybrids) and 23% of the battery-electric (purely electric) market.',\n",
       " 'Through its subsidiary Tesla Energy, the company develops and is a major installer of solar photovoltaic energy generation systems in the United States.',\n",
       " 'Tesla Energy is also one of the largest global suppliers of battery energy storage systems, with 3 GWh of battery storage supplied in 2020.',\n",
       " \"Founded in July 2003 by Martin Eberhard and Marc Tarpenning as Tesla Motors, the company's name is a tribute to inventor and electrical engineer Nikola Tesla.\",\n",
       " 'Elon Musk, who contributed most of the funding in the early days, has served as CEO since 2008.',\n",
       " 'According to Musk, the purpose of Tesla is to help expedite the move to sustainable transport and energy, obtained through electric vehicles and solar power.',\n",
       " 'Tesla began production of their first car model, the Roadster, in 2009.',\n",
       " 'This was followed by the Model S sedan in 2012, the Model X SUV in 2015, the higher volume Model 3 sedan in 2017, and the Model Y crossover in 2020.',\n",
       " \"The Model 3 is the world's all-time best-selling plug-in electric car, with more than 800,000 delivered through December 2020.\",\n",
       " \"Tesla's global vehicle sales were 499,550 units in 2020, a 35.8% increase over the previous year.\",\n",
       " 'In 2020, the company surpassed the 1 million mark of electric cars produced.',\n",
       " 'Tesla has been the subject of numerous lawsuits and controversies arising from statements and acts of CEO Elon Musk, allegations of creative accounting, allegations of whistleblower retaliation, alleged worker rights violations, and allegedly unresolved and dangerous technical problems with their products.']"
      ]
     },
     "execution_count": 5,
     "metadata": {},
     "output_type": "execute_result"
    }
   ],
   "source": [
    "sentences "
   ]
  },
  {
   "cell_type": "code",
   "execution_count": 15,
   "metadata": {},
   "outputs": [],
   "source": [
    "eg = \"hello ##\"\n",
    "eg = re.sub('[^a-zA-Z]',\" \",eg)"
   ]
  },
  {
   "cell_type": "code",
   "execution_count": 16,
   "metadata": {},
   "outputs": [
    {
     "data": {
      "text/plain": [
       "'hello   '"
      ]
     },
     "execution_count": 16,
     "metadata": {},
     "output_type": "execute_result"
    }
   ],
   "source": [
    "eg"
   ]
  },
  {
   "cell_type": "code",
   "execution_count": 17,
   "metadata": {},
   "outputs": [],
   "source": [
    "from nltk.stem import PorterStemmer\n",
    "ps = PorterStemmer()"
   ]
  },
  {
   "cell_type": "code",
   "execution_count": 48,
   "metadata": {},
   "outputs": [],
   "source": [
    "corpus =[]\n",
    "for i in range(len(sentences)):\n",
    "    review = re.sub('[^a-zA-z]',' ',sentences[i]) \n",
    "    review = review.lower()\n",
    "    review = review.split() \n",
    "    review = [ps.stem(word) for word in review if word not in set(stopwords.words('english'))]\n",
    "    review = \" \".join(review) \n",
    "    corpus.append(review) "
   ]
  },
  {
   "cell_type": "code",
   "execution_count": 20,
   "metadata": {},
   "outputs": [
    {
     "data": {
      "text/plain": [
       "['tesla inc american electr vehicl clean energi compani base palo alto california',\n",
       " 'tesla current product includ electr car batteri energi storag home grid scale solar panel solar roof tile well relat product servic',\n",
       " 'In tesla highest sale plug batteri electr passeng car segment captur plug market includ plug hybrid batteri electr pure electr market',\n",
       " 'through subsidiari tesla energi compani develop major instal solar photovolta energi gener system unit state',\n",
       " 'tesla energi also one largest global supplier batteri energi storag system gwh batteri storag suppli',\n",
       " 'found juli martin eberhard marc tarpen tesla motor compani name tribut inventor electr engin nikola tesla',\n",
       " 'elon musk contribut fund earli day serv ceo sinc',\n",
       " 'accord musk purpos tesla help expedit move sustain transport energi obtain electr vehicl solar power',\n",
       " 'tesla began product first car model roadster',\n",
       " 'thi follow model S sedan model X suv higher volum model sedan model Y crossov',\n",
       " 'the model world time best sell plug electr car deliv decemb',\n",
       " 'tesla global vehicl sale unit increas previou year',\n",
       " 'In compani surpass million mark electr car produc',\n",
       " 'tesla subject numer lawsuit controversi aris statement act ceo elon musk alleg creativ account alleg whistleblow retali alleg worker right violat allegedli unresolv danger technic problem product']"
      ]
     },
     "execution_count": 20,
     "metadata": {},
     "output_type": "execute_result"
    }
   ],
   "source": [
    "corpus "
   ]
  },
  {
   "cell_type": "code",
   "execution_count": 49,
   "metadata": {},
   "outputs": [],
   "source": [
    "corpus = [nltk.word_tokenize(word) for word in corpus] "
   ]
  },
  {
   "cell_type": "code",
   "execution_count": 50,
   "metadata": {},
   "outputs": [
    {
     "data": {
      "text/plain": [
       "[['tesla',\n",
       "  'inc',\n",
       "  'american',\n",
       "  'electr',\n",
       "  'vehicl',\n",
       "  'clean',\n",
       "  'energi',\n",
       "  'compani',\n",
       "  'base',\n",
       "  'palo',\n",
       "  'alto',\n",
       "  'california'],\n",
       " ['tesla',\n",
       "  'current',\n",
       "  'product',\n",
       "  'includ',\n",
       "  'electr',\n",
       "  'car',\n",
       "  'batteri',\n",
       "  'energi',\n",
       "  'storag',\n",
       "  'home',\n",
       "  'grid',\n",
       "  'scale',\n",
       "  'solar',\n",
       "  'panel',\n",
       "  'solar',\n",
       "  'roof',\n",
       "  'tile',\n",
       "  'well',\n",
       "  'relat',\n",
       "  'product',\n",
       "  'servic'],\n",
       " ['tesla',\n",
       "  'highest',\n",
       "  'sale',\n",
       "  'plug',\n",
       "  'batteri',\n",
       "  'electr',\n",
       "  'passeng',\n",
       "  'car',\n",
       "  'segment',\n",
       "  'captur',\n",
       "  'plug',\n",
       "  'market',\n",
       "  'includ',\n",
       "  'plug',\n",
       "  'hybrid',\n",
       "  'batteri',\n",
       "  'electr',\n",
       "  'pure',\n",
       "  'electr',\n",
       "  'market'],\n",
       " ['subsidiari',\n",
       "  'tesla',\n",
       "  'energi',\n",
       "  'compani',\n",
       "  'develop',\n",
       "  'major',\n",
       "  'instal',\n",
       "  'solar',\n",
       "  'photovolta',\n",
       "  'energi',\n",
       "  'gener',\n",
       "  'system',\n",
       "  'unit',\n",
       "  'state'],\n",
       " ['tesla',\n",
       "  'energi',\n",
       "  'also',\n",
       "  'one',\n",
       "  'largest',\n",
       "  'global',\n",
       "  'supplier',\n",
       "  'batteri',\n",
       "  'energi',\n",
       "  'storag',\n",
       "  'system',\n",
       "  'gwh',\n",
       "  'batteri',\n",
       "  'storag',\n",
       "  'suppli'],\n",
       " ['found',\n",
       "  'juli',\n",
       "  'martin',\n",
       "  'eberhard',\n",
       "  'marc',\n",
       "  'tarpen',\n",
       "  'tesla',\n",
       "  'motor',\n",
       "  'compani',\n",
       "  'name',\n",
       "  'tribut',\n",
       "  'inventor',\n",
       "  'electr',\n",
       "  'engin',\n",
       "  'nikola',\n",
       "  'tesla'],\n",
       " ['elon', 'musk', 'contribut', 'fund', 'earli', 'day', 'serv', 'ceo', 'sinc'],\n",
       " ['accord',\n",
       "  'musk',\n",
       "  'purpos',\n",
       "  'tesla',\n",
       "  'help',\n",
       "  'expedit',\n",
       "  'move',\n",
       "  'sustain',\n",
       "  'transport',\n",
       "  'energi',\n",
       "  'obtain',\n",
       "  'electr',\n",
       "  'vehicl',\n",
       "  'solar',\n",
       "  'power'],\n",
       " ['tesla', 'began', 'product', 'first', 'car', 'model', 'roadster'],\n",
       " ['follow',\n",
       "  'model',\n",
       "  'sedan',\n",
       "  'model',\n",
       "  'x',\n",
       "  'suv',\n",
       "  'higher',\n",
       "  'volum',\n",
       "  'model',\n",
       "  'sedan',\n",
       "  'model',\n",
       "  'crossov'],\n",
       " ['model',\n",
       "  'world',\n",
       "  'time',\n",
       "  'best',\n",
       "  'sell',\n",
       "  'plug',\n",
       "  'electr',\n",
       "  'car',\n",
       "  'deliv',\n",
       "  'decemb'],\n",
       " ['tesla', 'global', 'vehicl', 'sale', 'unit', 'increas', 'previou', 'year'],\n",
       " ['compani', 'surpass', 'million', 'mark', 'electr', 'car', 'produc'],\n",
       " ['tesla',\n",
       "  'subject',\n",
       "  'numer',\n",
       "  'lawsuit',\n",
       "  'controversi',\n",
       "  'aris',\n",
       "  'statement',\n",
       "  'act',\n",
       "  'ceo',\n",
       "  'elon',\n",
       "  'musk',\n",
       "  'alleg',\n",
       "  'creativ',\n",
       "  'account',\n",
       "  'alleg',\n",
       "  'whistleblow',\n",
       "  'retali',\n",
       "  'alleg',\n",
       "  'worker',\n",
       "  'right',\n",
       "  'violat',\n",
       "  'allegedli',\n",
       "  'unresolv',\n",
       "  'danger',\n",
       "  'technic',\n",
       "  'problem',\n",
       "  'product']]"
      ]
     },
     "execution_count": 50,
     "metadata": {},
     "output_type": "execute_result"
    }
   ],
   "source": [
    "corpus "
   ]
  },
  {
   "cell_type": "code",
   "execution_count": 22,
   "metadata": {},
   "outputs": [
    {
     "name": "stdout",
     "output_type": "stream",
     "text": [
      "Collecting gensim\n",
      "  Downloading gensim-4.0.1-cp38-cp38-win_amd64.whl (23.9 MB)\n",
      "Requirement already satisfied: Cython==0.29.21 in c:\\users\\admin\\anaconda3\\lib\\site-packages (from gensim) (0.29.21)\n",
      "Requirement already satisfied: scipy>=0.18.1 in c:\\users\\admin\\anaconda3\\lib\\site-packages (from gensim) (1.5.2)\n",
      "Requirement already satisfied: numpy>=1.11.3 in c:\\users\\admin\\anaconda3\\lib\\site-packages (from gensim) (1.19.2)\n",
      "Collecting smart-open>=1.8.1\n",
      "  Downloading smart_open-5.1.0-py3-none-any.whl (57 kB)\n",
      "Installing collected packages: smart-open, gensim\n",
      "Successfully installed gensim-4.0.1 smart-open-5.1.0\n"
     ]
    }
   ],
   "source": [
    "!pip install gensim "
   ]
  },
  {
   "cell_type": "code",
   "execution_count": 23,
   "metadata": {},
   "outputs": [
    {
     "name": "stderr",
     "output_type": "stream",
     "text": [
      "C:\\Users\\admin\\anaconda3\\lib\\site-packages\\gensim\\similarities\\__init__.py:15: UserWarning: The gensim.similarities.levenshtein submodule is disabled, because the optional Levenshtein package <https://pypi.org/project/python-Levenshtein/> is unavailable. Install Levenhstein (e.g. `pip install python-Levenshtein`) to suppress this warning.\n",
      "  warnings.warn(msg)\n"
     ]
    }
   ],
   "source": [
    "from gensim.models import Word2Vec "
   ]
  },
  {
   "cell_type": "code",
   "execution_count": 51,
   "metadata": {},
   "outputs": [],
   "source": [
    "model = Word2Vec(corpus,min_count=1) "
   ]
  },
  {
   "cell_type": "code",
   "execution_count": 52,
   "metadata": {},
   "outputs": [
    {
     "data": {
      "text/plain": [
       "{'tesla': 0,\n",
       " 'electr': 1,\n",
       " 'energi': 2,\n",
       " 'model': 3,\n",
       " 'batteri': 4,\n",
       " 'car': 5,\n",
       " 'compani': 6,\n",
       " 'plug': 7,\n",
       " 'product': 8,\n",
       " 'solar': 9,\n",
       " 'vehicl': 10,\n",
       " 'musk': 11,\n",
       " 'alleg': 12,\n",
       " 'storag': 13,\n",
       " 'global': 14,\n",
       " 'sale': 15,\n",
       " 'ceo': 16,\n",
       " 'system': 17,\n",
       " 'unit': 18,\n",
       " 'includ': 19,\n",
       " 'elon': 20,\n",
       " 'market': 21,\n",
       " 'sedan': 22,\n",
       " 'state': 23,\n",
       " 'photovolta': 24,\n",
       " 'instal': 25,\n",
       " 'major': 26,\n",
       " 'gener': 27,\n",
       " 'gwh': 28,\n",
       " 'also': 29,\n",
       " 'one': 30,\n",
       " 'largest': 31,\n",
       " 'supplier': 32,\n",
       " 'suppli': 33,\n",
       " 'found': 34,\n",
       " 'juli': 35,\n",
       " 'martin': 36,\n",
       " 'eberhard': 37,\n",
       " 'marc': 38,\n",
       " 'develop': 39,\n",
       " 'passeng': 40,\n",
       " 'subsidiari': 41,\n",
       " 'scale': 42,\n",
       " 'inc': 43,\n",
       " 'american': 44,\n",
       " 'clean': 45,\n",
       " 'base': 46,\n",
       " 'palo': 47,\n",
       " 'alto': 48,\n",
       " 'california': 49,\n",
       " 'current': 50,\n",
       " 'home': 51,\n",
       " 'grid': 52,\n",
       " 'panel': 53,\n",
       " 'pure': 54,\n",
       " 'roof': 55,\n",
       " 'tile': 56,\n",
       " 'well': 57,\n",
       " 'relat': 58,\n",
       " 'servic': 59,\n",
       " 'highest': 60,\n",
       " 'motor': 61,\n",
       " 'segment': 62,\n",
       " 'captur': 63,\n",
       " 'hybrid': 64,\n",
       " 'tarpen': 65,\n",
       " 'problem': 66,\n",
       " 'name': 67,\n",
       " 'tribut': 68,\n",
       " 'sell': 69,\n",
       " 'deliv': 70,\n",
       " 'decemb': 71,\n",
       " 'increas': 72,\n",
       " 'previou': 73,\n",
       " 'year': 74,\n",
       " 'surpass': 75,\n",
       " 'million': 76,\n",
       " 'mark': 77,\n",
       " 'produc': 78,\n",
       " 'subject': 79,\n",
       " 'numer': 80,\n",
       " 'lawsuit': 81,\n",
       " 'controversi': 82,\n",
       " 'aris': 83,\n",
       " 'statement': 84,\n",
       " 'act': 85,\n",
       " 'creativ': 86,\n",
       " 'account': 87,\n",
       " 'whistleblow': 88,\n",
       " 'retali': 89,\n",
       " 'worker': 90,\n",
       " 'right': 91,\n",
       " 'violat': 92,\n",
       " 'allegedli': 93,\n",
       " 'unresolv': 94,\n",
       " 'danger': 95,\n",
       " 'best': 96,\n",
       " 'time': 97,\n",
       " 'world': 98,\n",
       " 'expedit': 99,\n",
       " 'inventor': 100,\n",
       " 'technic': 101,\n",
       " 'nikola': 102,\n",
       " 'contribut': 103,\n",
       " 'fund': 104,\n",
       " 'earli': 105,\n",
       " 'day': 106,\n",
       " 'serv': 107,\n",
       " 'sinc': 108,\n",
       " 'accord': 109,\n",
       " 'purpos': 110,\n",
       " 'help': 111,\n",
       " 'move': 112,\n",
       " 'crossov': 113,\n",
       " 'sustain': 114,\n",
       " 'transport': 115,\n",
       " 'obtain': 116,\n",
       " 'power': 117,\n",
       " 'began': 118,\n",
       " 'first': 119,\n",
       " 'roadster': 120,\n",
       " 'follow': 121,\n",
       " 'x': 122,\n",
       " 'suv': 123,\n",
       " 'higher': 124,\n",
       " 'volum': 125,\n",
       " 'engin': 126}"
      ]
     },
     "execution_count": 52,
     "metadata": {},
     "output_type": "execute_result"
    }
   ],
   "source": [
    "model.wv.key_to_index"
   ]
  },
  {
   "cell_type": "code",
   "execution_count": 53,
   "metadata": {},
   "outputs": [
    {
     "data": {
      "text/plain": [
       "[('best', 0.25237536430358887),\n",
       " ('panel', 0.24869267642498016),\n",
       " ('tesla', 0.21703018248081207),\n",
       " ('american', 0.21526193618774414),\n",
       " ('problem', 0.2051386833190918),\n",
       " ('suv', 0.18038900196552277),\n",
       " ('inc', 0.1611088067293167),\n",
       " ('obtain', 0.15693989396095276),\n",
       " ('act', 0.15262861549854279),\n",
       " ('serv', 0.14822036027908325)]"
      ]
     },
     "execution_count": 53,
     "metadata": {},
     "output_type": "execute_result"
    }
   ],
   "source": [
    "model.wv.most_similar('solar') "
   ]
  },
  {
   "cell_type": "code",
   "execution_count": 55,
   "metadata": {},
   "outputs": [
    {
     "data": {
      "text/plain": [
       "array([-6.95286179e-03, -4.22501180e-04,  3.68243852e-03,  4.20199241e-03,\n",
       "        2.41661770e-03, -9.79949255e-03,  5.60008781e-03,  1.35353103e-03,\n",
       "       -4.69123153e-03,  5.95975993e-03, -1.99232716e-03, -2.76984036e-04,\n",
       "       -2.66231480e-03,  4.22622077e-03, -6.81989361e-03,  7.10801361e-03,\n",
       "       -4.90163453e-03, -1.69867883e-03, -8.67510401e-03, -8.65059439e-03,\n",
       "       -9.22818203e-03, -5.69686061e-03,  3.03106179e-04, -9.47754364e-03,\n",
       "        8.26167502e-03, -4.65625431e-03, -8.96831695e-03,  6.80336682e-03,\n",
       "       -7.46073946e-03,  2.62790010e-03,  6.61585853e-03,  5.49438875e-03,\n",
       "        9.01600718e-03,  5.91487857e-03, -7.12343166e-03,  3.27882217e-03,\n",
       "        5.87823056e-03, -3.96892615e-03, -7.35552004e-03, -1.86641526e-03,\n",
       "       -5.04832948e-04, -3.68875405e-03,  8.88728630e-03, -6.11525262e-03,\n",
       "        9.00707394e-03,  4.14937828e-03, -8.04887712e-03, -7.49223400e-03,\n",
       "        2.38724169e-03,  4.62199282e-03, -4.27956739e-03,  2.70785159e-03,\n",
       "        8.53112154e-03,  7.67640257e-03,  2.92445999e-03, -2.24071322e-03,\n",
       "        3.23395152e-03,  7.01981597e-03,  1.20509788e-03,  6.04934385e-03,\n",
       "       -8.10073223e-03, -1.14904164e-04,  6.08109124e-03,  3.66184954e-03,\n",
       "       -7.12401606e-03, -2.53430288e-03,  7.11061992e-03, -9.44553781e-03,\n",
       "       -9.65168700e-04,  1.73172471e-03, -1.97644520e-04, -3.92402103e-03,\n",
       "       -9.55785532e-03,  5.37277060e-03,  1.16747082e-03, -9.83584858e-03,\n",
       "        1.36319664e-03, -7.72000058e-03, -6.50163507e-03, -4.55046818e-03,\n",
       "        5.81536115e-05, -1.53796002e-03,  3.96212982e-03,  4.83008474e-03,\n",
       "       -8.91027879e-03,  8.16575717e-03,  6.51365705e-03, -9.25986562e-04,\n",
       "        1.64515339e-03,  6.45458326e-03,  6.28004689e-03,  3.14571499e-03,\n",
       "       -2.37614522e-03, -7.39416806e-03,  5.75908925e-03, -7.20559293e-03,\n",
       "       -4.84731805e-04, -4.38387366e-03, -3.50749074e-03,  7.91015010e-03],\n",
       "      dtype=float32)"
      ]
     },
     "execution_count": 55,
     "metadata": {},
     "output_type": "execute_result"
    }
   ],
   "source": [
    "model.wv['best']"
   ]
  },
  {
   "cell_type": "code",
   "execution_count": null,
   "metadata": {},
   "outputs": [],
   "source": []
  }
 ],
 "metadata": {
  "kernelspec": {
   "display_name": "Python 3",
   "language": "python",
   "name": "python3"
  },
  "language_info": {
   "codemirror_mode": {
    "name": "ipython",
    "version": 3
   },
   "file_extension": ".py",
   "mimetype": "text/x-python",
   "name": "python",
   "nbconvert_exporter": "python",
   "pygments_lexer": "ipython3",
   "version": "3.8.5"
  },
  "toc": {
   "base_numbering": 1,
   "nav_menu": {},
   "number_sections": true,
   "sideBar": true,
   "skip_h1_title": false,
   "title_cell": "Table of Contents",
   "title_sidebar": "Contents",
   "toc_cell": false,
   "toc_position": {},
   "toc_section_display": true,
   "toc_window_display": false
  }
 },
 "nbformat": 4,
 "nbformat_minor": 4
}
